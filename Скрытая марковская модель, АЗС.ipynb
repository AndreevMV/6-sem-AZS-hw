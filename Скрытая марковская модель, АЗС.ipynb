{
 "cells": [
  {
   "cell_type": "code",
   "execution_count": 1,
   "metadata": {},
   "outputs": [],
   "source": [
    "import numpy as np"
   ]
  },
  {
   "cell_type": "markdown",
   "metadata": {},
   "source": [
    "Введём начальные данные, т.е. последовательность наблюдений o, начальные вероятности для скрытых состояний pi, матрицу переходных состояний P, длину последовательности N, количество скрытых состояний k, матрицу B распределений видимых состояний для всех скрытых состояний:"
   ]
  },
  {
   "cell_type": "code",
   "execution_count": 2,
   "metadata": {},
   "outputs": [],
   "source": [
    "o = np.array([1,3,3,2,3,3,3,2,1,2,1,1,3,2,3,2,2,1,3,3,1,1,1,2,1])"
   ]
  },
  {
   "cell_type": "code",
   "execution_count": 3,
   "metadata": {},
   "outputs": [
    {
     "data": {
      "text/plain": [
       "array([0, 2, 2, 1, 2, 2, 2, 1, 0, 1, 0, 0, 2, 1, 2, 1, 1, 0, 2, 2, 0, 0,\n",
       "       0, 1, 0])"
      ]
     },
     "execution_count": 3,
     "metadata": {},
     "output_type": "execute_result"
    }
   ],
   "source": [
    "o -= 1\n",
    "o"
   ]
  },
  {
   "cell_type": "code",
   "execution_count": 4,
   "metadata": {},
   "outputs": [],
   "source": [
    "pi = np.array([0.8, 0.2])"
   ]
  },
  {
   "cell_type": "code",
   "execution_count": 5,
   "metadata": {},
   "outputs": [],
   "source": [
    "P = np.array([[0.6, 0.4], [0.5, 0.5]])"
   ]
  },
  {
   "cell_type": "code",
   "execution_count": 6,
   "metadata": {},
   "outputs": [],
   "source": [
    "N = len(o)\n",
    "k = 2"
   ]
  },
  {
   "cell_type": "code",
   "execution_count": 7,
   "metadata": {},
   "outputs": [],
   "source": [
    "B = np.array([[0.2, 0.4, 0.4], [0.5, 0.4, 0.1]])"
   ]
  },
  {
   "cell_type": "markdown",
   "metadata": {},
   "source": [
    "Для решения первой части задачи применим алгоритм прямого прохода, для него введём вспомогательный массив alpha и последовательно найдём значения в нём:"
   ]
  },
  {
   "cell_type": "code",
   "execution_count": 8,
   "metadata": {},
   "outputs": [],
   "source": [
    "alpha = np.zeros((N, k))"
   ]
  },
  {
   "cell_type": "code",
   "execution_count": 9,
   "metadata": {},
   "outputs": [],
   "source": [
    "for j in range(k):\n",
    "    alpha[0, j] = B[j, o[0]] * pi[j]\n",
    "for i in range(1, N):\n",
    "    for j in range(k):\n",
    "        alpha[i, j] = B[j, o[i]] * (P[0, j] * alpha[i - 1, 0] + P[1, j] * alpha[i - 1, 1])"
   ]
  },
  {
   "cell_type": "markdown",
   "metadata": {},
   "source": [
    "Ответом будет сумма чисел в alpha в последний момент времени по всем состояниям:"
   ]
  },
  {
   "cell_type": "code",
   "execution_count": 10,
   "metadata": {},
   "outputs": [
    {
     "data": {
      "text/plain": [
       "4.978300204739012e-13"
      ]
     },
     "execution_count": 10,
     "metadata": {},
     "output_type": "execute_result"
    }
   ],
   "source": [
    "alpha[N - 1, 0] + alpha[N - 1, 1]"
   ]
  },
  {
   "cell_type": "markdown",
   "metadata": {},
   "source": [
    "Для второй части задачи применим алгоритм Витерби, введём вспомогательный массив beta и прямым проходом его последовательно заполним:"
   ]
  },
  {
   "cell_type": "code",
   "execution_count": 11,
   "metadata": {},
   "outputs": [],
   "source": [
    "beta = np.zeros((N, k))\n",
    "sequence = np.zeros(N).astype(int)"
   ]
  },
  {
   "cell_type": "code",
   "execution_count": 12,
   "metadata": {},
   "outputs": [],
   "source": [
    "for j in range(k):\n",
    "    beta[0, j] = B[j, o[0]] * pi[j]\n",
    "for i in range(1, N):\n",
    "    for j in range(k):\n",
    "        beta[i, j] = B[j, o[i]] * max(beta[i - 1, 0] * P[0, j], beta[i - 1, 1] * P[1, j])"
   ]
  },
  {
   "cell_type": "markdown",
   "metadata": {},
   "source": [
    "Для восстановления наиболее вероятной последовательности скрытых состояний применим обратный проход:"
   ]
  },
  {
   "cell_type": "code",
   "execution_count": 13,
   "metadata": {},
   "outputs": [],
   "source": [
    "sequence = np.zeros(N).astype(int)"
   ]
  },
  {
   "cell_type": "code",
   "execution_count": 14,
   "metadata": {},
   "outputs": [],
   "source": [
    "sequence[-1] = np.argmax(beta[-1])\n",
    "for i in range(N - 2, -1, -1):\n",
    "    sequence[i] = np.argmax([beta[i, 0] * P[0, sequence[i + 1]], beta[i, 1] * P[1, sequence[i + 1]]])"
   ]
  },
  {
   "cell_type": "markdown",
   "metadata": {},
   "source": [
    "И запишем ответ в терминах задачи ('HOT', 'COLD'):"
   ]
  },
  {
   "cell_type": "code",
   "execution_count": 15,
   "metadata": {},
   "outputs": [],
   "source": [
    "sequence = np.where(sequence == 0, 'HOT', 'COLD')"
   ]
  },
  {
   "cell_type": "code",
   "execution_count": 16,
   "metadata": {},
   "outputs": [
    {
     "data": {
      "text/plain": [
       "array(['HOT', 'HOT', 'HOT', 'HOT', 'HOT', 'HOT', 'HOT', 'HOT', 'COLD',\n",
       "       'COLD', 'COLD', 'COLD', 'HOT', 'HOT', 'HOT', 'HOT', 'HOT', 'COLD',\n",
       "       'HOT', 'HOT', 'COLD', 'COLD', 'COLD', 'COLD', 'COLD'], dtype='<U4')"
      ]
     },
     "execution_count": 16,
     "metadata": {},
     "output_type": "execute_result"
    }
   ],
   "source": [
    "sequence"
   ]
  },
  {
   "cell_type": "code",
   "execution_count": null,
   "metadata": {},
   "outputs": [],
   "source": []
  }
 ],
 "metadata": {
  "kernelspec": {
   "display_name": "Python 3",
   "language": "python",
   "name": "python3"
  },
  "language_info": {
   "codemirror_mode": {
    "name": "ipython",
    "version": 3
   },
   "file_extension": ".py",
   "mimetype": "text/x-python",
   "name": "python",
   "nbconvert_exporter": "python",
   "pygments_lexer": "ipython3",
   "version": "3.8.3"
  }
 },
 "nbformat": 4,
 "nbformat_minor": 4
}
